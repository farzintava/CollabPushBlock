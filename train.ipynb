{
  "cells": [
    {
      "cell_type": "code",
      "execution_count": 3,
      "metadata": {
        "colab": {
          "base_uri": "https://localhost:8080/"
        },
        "id": "GOjaycQM4rC6",
        "outputId": "512e678f-e782-4dd5-e904-0f12f8a62ddc"
      },
      "outputs": [
        {
          "name": "stdout",
          "output_type": "stream",
          "text": [
            "Cloning into 'ml-agents'...\n",
            "remote: Enumerating objects: 2351, done.\u001b[K\n",
            "remote: Counting objects: 100% (2351/2351), done.\u001b[K\n",
            "remote: Compressing objects: 100% (1885/1885), done.\u001b[K\n",
            "remote: Total 2351 (delta 889), reused 1287 (delta 448), pack-reused 0\u001b[K\n",
            "Receiving objects: 100% (2351/2351), 97.66 MiB | 4.01 MiB/s, done.\n",
            "Resolving deltas: 100% (889/889), done.\n",
            "Updating files: 100% (2181/2181), done.\n"
          ]
        }
      ],
      "source": [
        "!git clone --depth 1 https://github.com/Unity-Technologies/ml-agents.git"
      ]
    },
    {
      "cell_type": "code",
      "execution_count": 5,
      "metadata": {
        "id": "jf2BUsJb5lWx"
      },
      "outputs": [],
      "source": [
        "%%capture\n",
        "# Go inside the repository and install the package\n",
        "%cd ./ml-agents\n",
        "!pip3 install -e ./ml-agents-envs\n",
        "!pip3 install -e ./ml-agents"
      ]
    },
    {
      "cell_type": "code",
      "execution_count": null,
      "metadata": {
        "id": "jGujnh6b6LML"
      },
      "outputs": [],
      "source": [
        "%cd .."
      ]
    },
    {
      "cell_type": "code",
      "execution_count": 7,
      "metadata": {
        "id": "zyAyBd3p53BW"
      },
      "outputs": [],
      "source": [
        "!chmod -R 755 ./PushBlockColab"
      ]
    },
    {
      "cell_type": "code",
      "execution_count": 11,
      "metadata": {
        "id": "cNm5bl9o9xtz"
      },
      "outputs": [],
      "source": [
        "# path/yaml_writer.py\n",
        "import yaml\n",
        "\n",
        "def write_to_yaml(data, file_path):\n",
        "    with open(file_path, 'w') as file:\n",
        "        yaml.dump(data, file, default_flow_style=False)\n"
      ]
    },
    {
      "cell_type": "markdown",
      "metadata": {
        "id": "25oUkgNQ9Daa"
      },
      "source": [
        "Train Model Using MA-POCA"
      ]
    },
    {
      "cell_type": "code",
      "execution_count": 12,
      "metadata": {
        "id": "oFo5XGeO99ce"
      },
      "outputs": [],
      "source": [
        "MAPOCA_hyperparameters = {\n",
        "        \"behaviors\": {\n",
        "            \"PushBlockCollab\": {\n",
        "                \"trainer_type\": \"poca\",\n",
        "                \"hyperparameters\": {\n",
        "                    \"batch_size\": 1024,\n",
        "                    \"buffer_size\": 10240,\n",
        "                    \"learning_rate\": 0.0003,\n",
        "                    \"beta\": 0.01,\n",
        "                    \"epsilon\": 0.2,\n",
        "                    \"lambd\": 0.95,\n",
        "                    \"num_epoch\": 3,\n",
        "                    \"learning_rate_schedule\": \"constant\"\n",
        "                },\n",
        "                \"network_settings\": {\n",
        "                    \"normalize\": False,\n",
        "                    \"hidden_units\": 256,\n",
        "                    \"num_layers\": 2,\n",
        "                    \"vis_encode_type\": \"simple\"\n",
        "                },\n",
        "                \"reward_signals\": {\n",
        "                    \"extrinsic\": {\n",
        "                        \"gamma\": 0.99,\n",
        "                        \"strength\": 1.0\n",
        "                    }\n",
        "                },\n",
        "                \"keep_checkpoints\": 5,\n",
        "                \"max_steps\": 15000000,\n",
        "                \"time_horizon\": 64,\n",
        "                \"summary_freq\": 60000\n",
        "            }\n",
        "        }\n",
        "    }\n",
        "write_to_yaml(MAPOCA_hyperparameters, \"./MA-POCA.yaml\")"
      ]
    },
    {
      "cell_type": "code",
      "execution_count": 8,
      "metadata": {
        "colab": {
          "base_uri": "https://localhost:8080/"
        },
        "id": "nZ_3KRNv6fsm",
        "outputId": "a39ce6af-e32d-4397-fac0-dd15a1b0c7fe"
      },
      "outputs": [
        {
          "name": "stdout",
          "output_type": "stream",
          "text": [
            "/usr/local/lib/python3.10/dist-packages/torch/__init__.py:614: UserWarning: torch.set_default_tensor_type() is deprecated as of PyTorch 2.1, please use torch.set_default_dtype() and torch.set_default_device() as alternatives. (Triggered internally at ../torch/csrc/tensor/python_tensor.cpp:451.)\n",
            "  _C._set_default_tensor_type(t)\n",
            "2023-11-29 02:32:17.375978: E tensorflow/compiler/xla/stream_executor/cuda/cuda_dnn.cc:9342] Unable to register cuDNN factory: Attempting to register factory for plugin cuDNN when one has already been registered\n",
            "2023-11-29 02:32:17.376033: E tensorflow/compiler/xla/stream_executor/cuda/cuda_fft.cc:609] Unable to register cuFFT factory: Attempting to register factory for plugin cuFFT when one has already been registered\n",
            "2023-11-29 02:32:17.376071: E tensorflow/compiler/xla/stream_executor/cuda/cuda_blas.cc:1518] Unable to register cuBLAS factory: Attempting to register factory for plugin cuBLAS when one has already been registered\n",
            "2023-11-29 02:32:17.384093: I tensorflow/core/platform/cpu_feature_guard.cc:182] This TensorFlow binary is optimized to use available CPU instructions in performance-critical operations.\n",
            "To enable the following instructions: AVX2 AVX512F FMA, in other operations, rebuild TensorFlow with the appropriate compiler flags.\n",
            "\n",
            "            ┐  ╖\n",
            "        ╓╖╬│╡  ││╬╖╖\n",
            "    ╓╖╬│││││┘  ╬│││││╬╖\n",
            " ╖╬│││││╬╜        ╙╬│││││╖╖                               ╗╗╗\n",
            " ╬╬╬╬╖││╦╖        ╖╬││╗╣╣╣╬      ╟╣╣╬    ╟╣╣╣             ╜╜╜  ╟╣╣\n",
            " ╬╬╬╬╬╬╬╬╖│╬╖╖╓╬╪│╓╣╣╣╣╣╣╣╬      ╟╣╣╬    ╟╣╣╣ ╒╣╣╖╗╣╣╣╗   ╣╣╣ ╣╣╣╣╣╣ ╟╣╣╖   ╣╣╣\n",
            " ╬╬╬╬┐  ╙╬╬╬╬│╓╣╣╣╝╜  ╫╣╣╣╬      ╟╣╣╬    ╟╣╣╣ ╟╣╣╣╙ ╙╣╣╣  ╣╣╣ ╙╟╣╣╜╙  ╫╣╣  ╟╣╣\n",
            " ╬╬╬╬┐     ╙╬╬╣╣      ╫╣╣╣╬      ╟╣╣╬    ╟╣╣╣ ╟╣╣╬   ╣╣╣  ╣╣╣  ╟╣╣     ╣╣╣┌╣╣╜\n",
            " ╬╬╬╜       ╬╬╣╣      ╙╝╣╣╬      ╙╣╣╣╗╖╓╗╣╣╣╜ ╟╣╣╬   ╣╣╣  ╣╣╣  ╟╣╣╦╓    ╣╣╣╣╣\n",
            " ╙   ╓╦╖    ╬╬╣╣   ╓╗╗╖            ╙╝╣╣╣╣╝╜   ╘╝╝╜   ╝╝╝  ╝╝╝   ╙╣╣╣    ╟╣╣╣\n",
            "   ╩╬╬╬╬╬╬╦╦╬╬╣╣╗╣╣╣╣╣╣╣╝                                             ╫╣╣╣╣\n",
            "      ╙╬╬╬╬╬╬╬╣╣╣╣╣╣╝╜\n",
            "          ╙╬╬╬╣╣╣╜\n",
            "             ╙\n",
            "        \n",
            " Version information:\n",
            "  ml-agents: 1.1.0.dev0,\n",
            "  ml-agents-envs: 1.1.0.dev0,\n",
            "  Communicator API: 1.5.0,\n",
            "  PyTorch: 2.1.1+cu121\n",
            "[WARNING] PyTorch checkpoint was saved with a different version of PyTorch. Model may not resume properly.\n",
            "[INFO] Connected to Unity environment with package version 3.0.0-exp.1 and communication version 1.5.0\n",
            "[INFO] Connected new brain: PushBlockCollab?team=0\n",
            "[INFO] Hyperparameters for behavior name PushBlockCollab: \n",
            "\ttrainer_type:\tpoca\n",
            "\thyperparameters:\t\n",
            "\t  batch_size:\t1024\n",
            "\t  buffer_size:\t10240\n",
            "\t  learning_rate:\t0.0003\n",
            "\t  beta:\t0.01\n",
            "\t  epsilon:\t0.2\n",
            "\t  lambd:\t0.95\n",
            "\t  num_epoch:\t3\n",
            "\t  learning_rate_schedule:\tconstant\n",
            "\t  beta_schedule:\tconstant\n",
            "\t  epsilon_schedule:\tconstant\n",
            "\tcheckpoint_interval:\t500000\n",
            "\tnetwork_settings:\t\n",
            "\t  normalize:\tFalse\n",
            "\t  hidden_units:\t256\n",
            "\t  num_layers:\t2\n",
            "\t  vis_encode_type:\tsimple\n",
            "\t  memory:\tNone\n",
            "\t  goal_conditioning_type:\thyper\n",
            "\t  deterministic:\tFalse\n",
            "\treward_signals:\t\n",
            "\t  extrinsic:\t\n",
            "\t    gamma:\t0.99\n",
            "\t    strength:\t1.0\n",
            "\t    network_settings:\t\n",
            "\t      normalize:\tFalse\n",
            "\t      hidden_units:\t128\n",
            "\t      num_layers:\t2\n",
            "\t      vis_encode_type:\tsimple\n",
            "\t      memory:\tNone\n",
            "\t      goal_conditioning_type:\thyper\n",
            "\t      deterministic:\tFalse\n",
            "\tinit_path:\tNone\n",
            "\tkeep_checkpoints:\t5\n",
            "\teven_checkpoints:\tFalse\n",
            "\tmax_steps:\t15000000\n",
            "\ttime_horizon:\t64\n",
            "\tsummary_freq:\t60000\n",
            "\tthreaded:\tFalse\n",
            "\tself_play:\tNone\n",
            "\tbehavioral_cloning:\tNone\n",
            "[INFO] Resuming from ./results/PushBlockCollab_POCA/PushBlockCollab.\n",
            "[INFO] Resuming training from step 15000062.\n",
            "[INFO] Exported ./results/PushBlockCollab_POCA/PushBlockCollab/PushBlockCollab-15000062.onnx\n",
            "[INFO] Copied ./results/PushBlockCollab_POCA/PushBlockCollab/PushBlockCollab-15000062.onnx to ./results/PushBlockCollab_POCA/PushBlockCollab.onnx.\n"
          ]
        }
      ],
      "source": [
        "!mlagents-learn \"./MA-POCA.yaml\" --env=\"./PushBlockColab/PushBlockColab.x86_64\" --run-id=\"PushBlockCollab_POCA\" --results-dir=\"./results\" --no-graphics --resume"
      ]
    },
    {
      "cell_type": "markdown",
      "metadata": {
        "id": "nLr9MfRo9IrY"
      },
      "source": [
        "Train Model Using MA-POCA+RND"
      ]
    },
    {
      "cell_type": "code",
      "execution_count": 13,
      "metadata": {
        "id": "kKkk53GT-YbY"
      },
      "outputs": [],
      "source": [
        "MAPOCA_RND_hyperparameters = {\n",
        "        \"behaviors\": {\n",
        "            \"PushBlockCollab\": {\n",
        "                \"trainer_type\": \"poca\",\n",
        "                \"hyperparameters\": {\n",
        "                    \"batch_size\": 1024,\n",
        "                    \"buffer_size\": 10240,\n",
        "                    \"learning_rate\": 0.0003,\n",
        "                    \"beta\": 0.01,\n",
        "                    \"epsilon\": 0.2,\n",
        "                    \"lambd\": 0.95,\n",
        "                    \"num_epoch\": 3,\n",
        "                    \"learning_rate_schedule\": \"constant\"\n",
        "                },\n",
        "                \"network_settings\": {\n",
        "                    \"normalize\": False,\n",
        "                    \"hidden_units\": 256,\n",
        "                    \"num_layers\": 2,\n",
        "                    \"vis_encode_type\": \"simple\"\n",
        "                },\n",
        "                \"reward_signals\": {\n",
        "                    \"extrinsic\": {\n",
        "                        \"gamma\": 0.99,\n",
        "                        \"strength\": 1.0\n",
        "                    },\n",
        "                    \"rnd\": {\n",
        "                        \"gamma\": 0.99,\n",
        "                        \"strength\": 0.01,\n",
        "                        \"network_settings\": {\n",
        "                            \"hidden_units\": 64,\n",
        "                            \"num_layers\": 3\n",
        "                        },\n",
        "                        \"learning_rate\": 0.0001\n",
        "                    }\n",
        "                },\n",
        "                \"keep_checkpoints\": 5,\n",
        "                \"max_steps\": 15000000,\n",
        "                \"time_horizon\": 64,\n",
        "                \"summary_freq\": 60000\n",
        "            }\n",
        "        }\n",
        "    }\n",
        "write_to_yaml(MAPOCA_RND_hyperparameters,'./MA-POCA+RND.yaml')"
      ]
    },
    {
      "cell_type": "code",
      "execution_count": 9,
      "metadata": {
        "colab": {
          "base_uri": "https://localhost:8080/"
        },
        "id": "7ehH0fwa86eG",
        "outputId": "51a0f7f8-1a23-4a54-deea-dddd5e212bda"
      },
      "outputs": [
        {
          "name": "stdout",
          "output_type": "stream",
          "text": [
            "/usr/local/lib/python3.10/dist-packages/torch/__init__.py:614: UserWarning: torch.set_default_tensor_type() is deprecated as of PyTorch 2.1, please use torch.set_default_dtype() and torch.set_default_device() as alternatives. (Triggered internally at ../torch/csrc/tensor/python_tensor.cpp:451.)\n",
            "  _C._set_default_tensor_type(t)\n",
            "2023-11-29 02:42:53.515799: E tensorflow/compiler/xla/stream_executor/cuda/cuda_dnn.cc:9342] Unable to register cuDNN factory: Attempting to register factory for plugin cuDNN when one has already been registered\n",
            "2023-11-29 02:42:53.515847: E tensorflow/compiler/xla/stream_executor/cuda/cuda_fft.cc:609] Unable to register cuFFT factory: Attempting to register factory for plugin cuFFT when one has already been registered\n",
            "2023-11-29 02:42:53.515880: E tensorflow/compiler/xla/stream_executor/cuda/cuda_blas.cc:1518] Unable to register cuBLAS factory: Attempting to register factory for plugin cuBLAS when one has already been registered\n",
            "2023-11-29 02:42:53.524026: I tensorflow/core/platform/cpu_feature_guard.cc:182] This TensorFlow binary is optimized to use available CPU instructions in performance-critical operations.\n",
            "To enable the following instructions: AVX2 AVX512F FMA, in other operations, rebuild TensorFlow with the appropriate compiler flags.\n",
            "\n",
            "            ┐  ╖\n",
            "        ╓╖╬│╡  ││╬╖╖\n",
            "    ╓╖╬│││││┘  ╬│││││╬╖\n",
            " ╖╬│││││╬╜        ╙╬│││││╖╖                               ╗╗╗\n",
            " ╬╬╬╬╖││╦╖        ╖╬││╗╣╣╣╬      ╟╣╣╬    ╟╣╣╣             ╜╜╜  ╟╣╣\n",
            " ╬╬╬╬╬╬╬╬╖│╬╖╖╓╬╪│╓╣╣╣╣╣╣╣╬      ╟╣╣╬    ╟╣╣╣ ╒╣╣╖╗╣╣╣╗   ╣╣╣ ╣╣╣╣╣╣ ╟╣╣╖   ╣╣╣\n",
            " ╬╬╬╬┐  ╙╬╬╬╬│╓╣╣╣╝╜  ╫╣╣╣╬      ╟╣╣╬    ╟╣╣╣ ╟╣╣╣╙ ╙╣╣╣  ╣╣╣ ╙╟╣╣╜╙  ╫╣╣  ╟╣╣\n",
            " ╬╬╬╬┐     ╙╬╬╣╣      ╫╣╣╣╬      ╟╣╣╬    ╟╣╣╣ ╟╣╣╬   ╣╣╣  ╣╣╣  ╟╣╣     ╣╣╣┌╣╣╜\n",
            " ╬╬╬╜       ╬╬╣╣      ╙╝╣╣╬      ╙╣╣╣╗╖╓╗╣╣╣╜ ╟╣╣╬   ╣╣╣  ╣╣╣  ╟╣╣╦╓    ╣╣╣╣╣\n",
            " ╙   ╓╦╖    ╬╬╣╣   ╓╗╗╖            ╙╝╣╣╣╣╝╜   ╘╝╝╜   ╝╝╝  ╝╝╝   ╙╣╣╣    ╟╣╣╣\n",
            "   ╩╬╬╬╬╬╬╦╦╬╬╣╣╗╣╣╣╣╣╣╣╝                                             ╫╣╣╣╣\n",
            "      ╙╬╬╬╬╬╬╬╣╣╣╣╣╣╝╜\n",
            "          ╙╬╬╬╣╣╣╜\n",
            "             ╙\n",
            "        \n",
            " Version information:\n",
            "  ml-agents: 1.1.0.dev0,\n",
            "  ml-agents-envs: 1.1.0.dev0,\n",
            "  Communicator API: 1.5.0,\n",
            "  PyTorch: 2.1.1+cu121\n",
            "[INFO] Connected to Unity environment with package version 3.0.0-exp.1 and communication version 1.5.0\n",
            "[INFO] Connected new brain: PushBlockCollab?team=0\n",
            "[INFO] Hyperparameters for behavior name PushBlockCollab: \n",
            "\ttrainer_type:\tpoca\n",
            "\thyperparameters:\t\n",
            "\t  batch_size:\t1024\n",
            "\t  buffer_size:\t10240\n",
            "\t  learning_rate:\t0.0003\n",
            "\t  beta:\t0.01\n",
            "\t  epsilon:\t0.2\n",
            "\t  lambd:\t0.95\n",
            "\t  num_epoch:\t3\n",
            "\t  learning_rate_schedule:\tconstant\n",
            "\t  beta_schedule:\tconstant\n",
            "\t  epsilon_schedule:\tconstant\n",
            "\tcheckpoint_interval:\t500000\n",
            "\tnetwork_settings:\t\n",
            "\t  normalize:\tFalse\n",
            "\t  hidden_units:\t256\n",
            "\t  num_layers:\t2\n",
            "\t  vis_encode_type:\tsimple\n",
            "\t  memory:\tNone\n",
            "\t  goal_conditioning_type:\thyper\n",
            "\t  deterministic:\tFalse\n",
            "\treward_signals:\t\n",
            "\t  extrinsic:\t\n",
            "\t    gamma:\t0.99\n",
            "\t    strength:\t1.0\n",
            "\t    network_settings:\t\n",
            "\t      normalize:\tFalse\n",
            "\t      hidden_units:\t128\n",
            "\t      num_layers:\t2\n",
            "\t      vis_encode_type:\tsimple\n",
            "\t      memory:\tNone\n",
            "\t      goal_conditioning_type:\thyper\n",
            "\t      deterministic:\tFalse\n",
            "\t  rnd:\t\n",
            "\t    gamma:\t0.99\n",
            "\t    strength:\t0.01\n",
            "\t    network_settings:\t\n",
            "\t      normalize:\tFalse\n",
            "\t      hidden_units:\t64\n",
            "\t      num_layers:\t3\n",
            "\t      vis_encode_type:\tsimple\n",
            "\t      memory:\tNone\n",
            "\t      goal_conditioning_type:\thyper\n",
            "\t      deterministic:\tFalse\n",
            "\t    learning_rate:\t0.0001\n",
            "\t    encoding_size:\tNone\n",
            "\tinit_path:\tNone\n",
            "\tkeep_checkpoints:\t5\n",
            "\teven_checkpoints:\tFalse\n",
            "\tmax_steps:\t15000000\n",
            "\ttime_horizon:\t64\n",
            "\tsummary_freq:\t60000\n",
            "\tthreaded:\tFalse\n",
            "\tself_play:\tNone\n",
            "\tbehavioral_cloning:\tNone\n",
            "[WARNING] Reward signal Rnd is not supported with the POCA trainer; results may be unexpected.\n",
            "[INFO] Resuming from ./results/PushBlockCollab_POCA/PushBlockCollab.\n",
            "[WARNING] Failed to load for module Optimizer:adam. Initializing\n",
            "[WARNING] Did not find these keys ['value_heads.value_heads.rnd.weight', 'value_heads.value_heads.rnd.bias'] in checkpoint. Initializing.\n",
            "[WARNING] Failed to load for module Module:RND-pred. Initializing\n",
            "[WARNING] Failed to load for module Module:RND-target. Initializing\n",
            "[INFO] Resuming training from step 15000062.\n",
            "[INFO] Exported ./results/PushBlockCollab_POCA/PushBlockCollab/PushBlockCollab-15000062.onnx\n",
            "[INFO] Copied ./results/PushBlockCollab_POCA/PushBlockCollab/PushBlockCollab-15000062.onnx to ./results/PushBlockCollab_POCA/PushBlockCollab.onnx.\n"
          ]
        }
      ],
      "source": [
        "!mlagents-learn \"./MA-POCA+RND.yaml\" --env=\"./PushBlockColab/PushBlockColab.x86_64\" --run-id=\"PushBlockCollab_POCA\" --results-dir=\"./results\" --no-graphics --resume"
      ]
    },
    {
      "cell_type": "markdown",
      "metadata": {
        "id": "YytW2P1E9c1G"
      },
      "source": [
        "Train Model Using PPO"
      ]
    },
    {
      "cell_type": "code",
      "execution_count": 14,
      "metadata": {
        "id": "2vbmiOYm-vwK"
      },
      "outputs": [],
      "source": [
        "PPO_hyperparameters = {\n",
        "        \"behaviors\": {\n",
        "            \"PushBlockCollab\": {\n",
        "                \"trainer_type\": \"ppo\",\n",
        "                \"hyperparameters\": {\n",
        "                    \"batch_size\": 1024,\n",
        "                    \"buffer_size\": 10240,\n",
        "                    \"learning_rate\": 0.0003,\n",
        "                    \"beta\": 0.01,\n",
        "                    \"epsilon\": 0.2,\n",
        "                    \"lambd\": 0.95,\n",
        "                    \"num_epoch\": 3,\n",
        "                    \"learning_rate_schedule\": \"constant\"\n",
        "                },\n",
        "                \"network_settings\": {\n",
        "                    \"normalize\": False,\n",
        "                    \"hidden_units\": 256,\n",
        "                    \"num_layers\": 2,\n",
        "                    \"vis_encode_type\": \"simple\"\n",
        "                },\n",
        "                \"reward_signals\": {\n",
        "                    \"extrinsic\": {\n",
        "                        \"gamma\": 0.99,\n",
        "                        \"strength\": 1.0\n",
        "                    }\n",
        "                },\n",
        "                \"keep_checkpoints\": 5,\n",
        "                \"max_steps\": 15000000,\n",
        "                \"time_horizon\": 64,\n",
        "                \"summary_freq\": 60000\n",
        "            }\n",
        "        }\n",
        "    }\n",
        "write_to_yaml(PPO_hyperparameters, \"./PPO.yaml\")"
      ]
    },
    {
      "cell_type": "code",
      "execution_count": 10,
      "metadata": {
        "colab": {
          "base_uri": "https://localhost:8080/"
        },
        "id": "LNh_ZgZE9XUV",
        "outputId": "15e9babc-6eb0-429a-e0dd-c677324469c9"
      },
      "outputs": [
        {
          "name": "stdout",
          "output_type": "stream",
          "text": [
            "/usr/local/lib/python3.10/dist-packages/torch/__init__.py:614: UserWarning: torch.set_default_tensor_type() is deprecated as of PyTorch 2.1, please use torch.set_default_dtype() and torch.set_default_device() as alternatives. (Triggered internally at ../torch/csrc/tensor/python_tensor.cpp:451.)\n",
            "  _C._set_default_tensor_type(t)\n",
            "2023-11-29 02:43:47.303205: E tensorflow/compiler/xla/stream_executor/cuda/cuda_dnn.cc:9342] Unable to register cuDNN factory: Attempting to register factory for plugin cuDNN when one has already been registered\n",
            "2023-11-29 02:43:47.303260: E tensorflow/compiler/xla/stream_executor/cuda/cuda_fft.cc:609] Unable to register cuFFT factory: Attempting to register factory for plugin cuFFT when one has already been registered\n",
            "2023-11-29 02:43:47.303296: E tensorflow/compiler/xla/stream_executor/cuda/cuda_blas.cc:1518] Unable to register cuBLAS factory: Attempting to register factory for plugin cuBLAS when one has already been registered\n",
            "2023-11-29 02:43:47.310840: I tensorflow/core/platform/cpu_feature_guard.cc:182] This TensorFlow binary is optimized to use available CPU instructions in performance-critical operations.\n",
            "To enable the following instructions: AVX2 AVX512F FMA, in other operations, rebuild TensorFlow with the appropriate compiler flags.\n",
            "\n",
            "            ┐  ╖\n",
            "        ╓╖╬│╡  ││╬╖╖\n",
            "    ╓╖╬│││││┘  ╬│││││╬╖\n",
            " ╖╬│││││╬╜        ╙╬│││││╖╖                               ╗╗╗\n",
            " ╬╬╬╬╖││╦╖        ╖╬││╗╣╣╣╬      ╟╣╣╬    ╟╣╣╣             ╜╜╜  ╟╣╣\n",
            " ╬╬╬╬╬╬╬╬╖│╬╖╖╓╬╪│╓╣╣╣╣╣╣╣╬      ╟╣╣╬    ╟╣╣╣ ╒╣╣╖╗╣╣╣╗   ╣╣╣ ╣╣╣╣╣╣ ╟╣╣╖   ╣╣╣\n",
            " ╬╬╬╬┐  ╙╬╬╬╬│╓╣╣╣╝╜  ╫╣╣╣╬      ╟╣╣╬    ╟╣╣╣ ╟╣╣╣╙ ╙╣╣╣  ╣╣╣ ╙╟╣╣╜╙  ╫╣╣  ╟╣╣\n",
            " ╬╬╬╬┐     ╙╬╬╣╣      ╫╣╣╣╬      ╟╣╣╬    ╟╣╣╣ ╟╣╣╬   ╣╣╣  ╣╣╣  ╟╣╣     ╣╣╣┌╣╣╜\n",
            " ╬╬╬╜       ╬╬╣╣      ╙╝╣╣╬      ╙╣╣╣╗╖╓╗╣╣╣╜ ╟╣╣╬   ╣╣╣  ╣╣╣  ╟╣╣╦╓    ╣╣╣╣╣\n",
            " ╙   ╓╦╖    ╬╬╣╣   ╓╗╗╖            ╙╝╣╣╣╣╝╜   ╘╝╝╜   ╝╝╝  ╝╝╝   ╙╣╣╣    ╟╣╣╣\n",
            "   ╩╬╬╬╬╬╬╦╦╬╬╣╣╗╣╣╣╣╣╣╣╝                                             ╫╣╣╣╣\n",
            "      ╙╬╬╬╬╬╬╬╣╣╣╣╣╣╝╜\n",
            "          ╙╬╬╬╣╣╣╜\n",
            "             ╙\n",
            "        \n",
            " Version information:\n",
            "  ml-agents: 1.1.0.dev0,\n",
            "  ml-agents-envs: 1.1.0.dev0,\n",
            "  Communicator API: 1.5.0,\n",
            "  PyTorch: 2.1.1+cu121\n",
            "[INFO] Connected to Unity environment with package version 3.0.0-exp.1 and communication version 1.5.0\n",
            "[INFO] Connected new brain: PushBlockCollab?team=0\n",
            "[INFO] Hyperparameters for behavior name PushBlockCollab: \n",
            "\ttrainer_type:\tppo\n",
            "\thyperparameters:\t\n",
            "\t  batch_size:\t1024\n",
            "\t  buffer_size:\t10240\n",
            "\t  learning_rate:\t0.0003\n",
            "\t  beta:\t0.01\n",
            "\t  epsilon:\t0.2\n",
            "\t  lambd:\t0.95\n",
            "\t  num_epoch:\t3\n",
            "\t  shared_critic:\tFalse\n",
            "\t  learning_rate_schedule:\tconstant\n",
            "\t  beta_schedule:\tconstant\n",
            "\t  epsilon_schedule:\tconstant\n",
            "\tcheckpoint_interval:\t500000\n",
            "\tnetwork_settings:\t\n",
            "\t  normalize:\tFalse\n",
            "\t  hidden_units:\t256\n",
            "\t  num_layers:\t2\n",
            "\t  vis_encode_type:\tsimple\n",
            "\t  memory:\tNone\n",
            "\t  goal_conditioning_type:\thyper\n",
            "\t  deterministic:\tFalse\n",
            "\treward_signals:\t\n",
            "\t  extrinsic:\t\n",
            "\t    gamma:\t0.99\n",
            "\t    strength:\t1.0\n",
            "\t    network_settings:\t\n",
            "\t      normalize:\tFalse\n",
            "\t      hidden_units:\t128\n",
            "\t      num_layers:\t2\n",
            "\t      vis_encode_type:\tsimple\n",
            "\t      memory:\tNone\n",
            "\t      goal_conditioning_type:\thyper\n",
            "\t      deterministic:\tFalse\n",
            "\tinit_path:\tNone\n",
            "\tkeep_checkpoints:\t5\n",
            "\teven_checkpoints:\tFalse\n",
            "\tmax_steps:\t15000000\n",
            "\ttime_horizon:\t64\n",
            "\tsummary_freq:\t60000\n",
            "\tthreaded:\tFalse\n",
            "\tself_play:\tNone\n",
            "\tbehavioral_cloning:\tNone\n",
            "[INFO] Resuming from ./results/PushBlockCollab_POCA/PushBlockCollab.\n",
            "[WARNING] Failed to load for module Optimizer:value_optimizer. Initializing\n",
            "[WARNING] Failed to load for module Optimizer:critic. Initializing\n",
            "[INFO] Resuming training from step 15000062.\n",
            "[INFO] Exported ./results/PushBlockCollab_POCA/PushBlockCollab/PushBlockCollab-15000062.onnx\n",
            "[INFO] Copied ./results/PushBlockCollab_POCA/PushBlockCollab/PushBlockCollab-15000062.onnx to ./results/PushBlockCollab_POCA/PushBlockCollab.onnx.\n"
          ]
        }
      ],
      "source": [
        "!mlagents-learn \"./PPO.yaml\" --env=\"./PushBlockColab/PushBlockColab.x86_64\" --run-id=\"PushBlockCollab_POCA\" --results-dir=\"./results\" --no-graphics --resume"
      ]
    }
  ],
  "metadata": {
    "accelerator": "GPU",
    "colab": {
      "gpuType": "T4",
      "provenance": []
    },
    "kernelspec": {
      "display_name": "Python 3",
      "name": "python3"
    },
    "language_info": {
      "name": "python"
    }
  },
  "nbformat": 4,
  "nbformat_minor": 0
}
